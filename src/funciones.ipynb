{
 "cells": [
  {
   "cell_type": "code",
   "execution_count": 1,
   "id": "0424dee5",
   "metadata": {},
   "outputs": [],
   "source": [
    "def conv_to_int(x):\n",
    "    try:\n",
    "        x = int(x)\n",
    "    except:\n",
    "        pass\n",
    "    return x"
   ]
  },
  {
   "cell_type": "code",
   "execution_count": null,
   "id": "57cc15ab",
   "metadata": {},
   "outputs": [],
   "source": [
    "def conv_str(x): return str(x)"
   ]
  },
  {
   "cell_type": "code",
   "execution_count": 2,
   "id": "54e41b62",
   "metadata": {},
   "outputs": [],
   "source": [
    "def limpiar_basico(x): return x.strip().lower()"
   ]
  },
  {
   "cell_type": "code",
   "execution_count": null,
   "id": "340b3861",
   "metadata": {},
   "outputs": [],
   "source": [
    "def limpiar_age(row):\n",
    "    row = row.strip()\n",
    "    \n",
    "    if 'Teen' in row or 'teen' in row:\n",
    "        return '15'\n",
    "    elif 'or' in row:\n",
    "        index = row.index('r')\n",
    "        return row[index+1:]\n",
    "    elif '&' in row:\n",
    "        index = row.index('&')\n",
    "        return row[index+1:]\n",
    "    elif 'to' in row:\n",
    "        index = row.index('o')\n",
    "        return row[index+1:]\n",
    "    elif 'young' in row:\n",
    "        return '15'\n",
    "    elif 'month' in row:\n",
    "        return '1'\n",
    "    elif 'adult' in row:\n",
    "        return '40'\n",
    "    else:\n",
    "        return row\n",
    "    \n",
    "# además en age he tenido que realizar numerosos str replacements"
   ]
  },
  {
   "cell_type": "code",
   "execution_count": null,
   "id": "70acfdde",
   "metadata": {},
   "outputs": [],
   "source": [
    "def tramos_día(x):\n",
    "    \n",
    "    mañana_horas = ['06', '07', '08', '09', '10', '11', '12', '13']\n",
    "    tarde_horas = ['14', '15', '16', '17', '18', '19', '20', '21']\n",
    "    noche_horas = ['22', '23', '00', '01', '02', '03', '04', '05']\n",
    "    \n",
    "    if x in mañana_horas:\n",
    "        return 'morning'\n",
    "    elif x in tarde_horas:\n",
    "        return 'afternoon'\n",
    "    elif x in noche_horas:\n",
    "        return 'night'\n",
    "    elif x == 'evening':\n",
    "        return 'afternoon'\n",
    "    else:\n",
    "        return x"
   ]
  }
 ],
 "metadata": {
  "kernelspec": {
   "display_name": "Python 3 (ipykernel)",
   "language": "python",
   "name": "python3"
  },
  "language_info": {
   "codemirror_mode": {
    "name": "ipython",
    "version": 3
   },
   "file_extension": ".py",
   "mimetype": "text/x-python",
   "name": "python",
   "nbconvert_exporter": "python",
   "pygments_lexer": "ipython3",
   "version": "3.9.13"
  }
 },
 "nbformat": 4,
 "nbformat_minor": 5
}
